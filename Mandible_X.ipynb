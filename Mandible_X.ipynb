{
 "cells": [
  {
   "cell_type": "markdown",
   "id": "aae7ef2b-b9db-46f4-9b87-61a04ef24f5f",
   "metadata": {},
   "source": [
    "# Phyloproteomic analysis of the ancient hominin mandible"
   ]
  },
  {
   "cell_type": "markdown",
   "id": "e58c6a04-93b8-448f-be73-4a2d4d68a1cd",
   "metadata": {},
   "source": [
    "In this repository we will use the protein sequences reconstructed from the ancient mandible. "
   ]
  },
  {
   "cell_type": "markdown",
   "id": "8b8e5e9f-7404-48b8-afd1-048d3928e447",
   "metadata": {},
   "source": [
    "### Create the required files\n",
    "To start with the analysis you have to merge the ancient protein sequences with the reference dataset you created and the sequences of the Neanderthal and Denisova contained in this repository (translated from high genome coverage using the module two of PaleoProPhyler)."
   ]
  },
  {
   "cell_type": "code",
   "execution_count": null,
   "id": "c2806200-a9d3-42b3-9f0e-d83a190da5bd",
   "metadata": {},
   "outputs": [],
   "source": [
    "%%bash\n",
    "cat mandible.fa Yourdataset.fa archaic.fa >  mandible_reference.fa"
   ]
  },
  {
   "cell_type": "markdown",
   "id": "f1fd276f-da35-4769-b72a-8517dc87bda1",
   "metadata": {},
   "source": [
    "**NOTE: If you did not have time to create your own reference you can use the reference file 'homo_sapiens_outgroups_Archaic_mandible_canonical.fa' and instead run:"
   ]
  },
  {
   "cell_type": "code",
   "execution_count": null,
   "id": "bdb31a53-2786-4d76-a7c9-378ccebab4a7",
   "metadata": {},
   "outputs": [],
   "source": [
    "%%bash\n",
    "cat mandible.fa homo_sapiens_outgroups_Archaic_mandible_canonical.fa >  mandible_reference.fa"
   ]
  },
  {
   "cell_type": "markdown",
   "id": "7a8092f5-b425-4dfb-8449-922e071235a6",
   "metadata": {},
   "source": [
    "According to the requirements of the PaleoProPhyler Pipeline, you will place the created file into a specific folder.  "
   ]
  },
  {
   "cell_type": "code",
   "execution_count": null,
   "id": "2dc0842c-4ab7-4b6f-b071-0d480263e649",
   "metadata": {},
   "outputs": [],
   "source": [
    "%%bash\n",
    "cp mandible_reference.fa ./Workspace/1_OG_Dataset/"
   ]
  },
  {
   "cell_type": "markdown",
   "id": "eae0993f-b24e-46f3-ba1d-f499d5902bbd",
   "metadata": {},
   "source": [
    "Now, you need to indicate to the program what is the name of your ancient sample, in this case it would be 'Mandible'"
   ]
  },
  {
   "cell_type": "code",
   "execution_count": null,
   "id": "2c1ba169-26c7-4c83-bc68-b6cce933ce92",
   "metadata": {},
   "outputs": [],
   "source": [
    "%%bash\n",
    "echo Dataset   Ancient_Samples > Datasets.txt\n",
    "echo mandible_reference.fa   Mandible >> Datasets.txt"
   ]
  },
  {
   "cell_type": "markdown",
   "id": "8a73f16b-e006-4bd9-b58e-4c70b5dac443",
   "metadata": {},
   "source": [
    "Now, we have everything ready to run the phyloproteomic analysis. For this practice we limited the pipeline to the Maximum Likelihood analysis with PhyML. However, the module 3 in the PaleoProPhyler pipeline also includes the Bayesian analysis. One of the advantages of using the pipeline is that the creation of the alignment is designed for ancient proteins, and takes into account the Leucine / Isoleucine edits needed. For a full description and tutorial consult its [GitHub repository](https://github.com/johnpatramanis/Proteomic_Pipeline)."
   ]
  },
  {
   "cell_type": "markdown",
   "id": "5d406677-9f3e-4348-b1f7-89fb0c228aa4",
   "metadata": {},
   "source": [
    "### Let's run the analysis. \n",
    "It will take several minutes. "
   ]
  },
  {
   "cell_type": "code",
   "execution_count": null,
   "id": "0da8935c-8275-44b4-891b-d62c7a9dc747",
   "metadata": {},
   "outputs": [],
   "source": [
    "%%bash\n",
    "snakemake -j4"
   ]
  },
  {
   "cell_type": "markdown",
   "id": "f4fe1153-61fe-490c-a244-6af2e083c87c",
   "metadata": {},
   "source": [
    "### Results \n",
    "\n",
    "Go to the folder '/Workspace/2_DATASETS/mandible_reference/CONCATINATED/'\n",
    "\n",
    "You will find the PhyML tree called 'CONCATINATED_aln_e.phy_phyml_tree.txt'\n",
    "\n",
    "Download this file to your local computer and go back to the tutorial"
   ]
  },
  {
   "cell_type": "markdown",
   "id": "6a8ad17e-5b54-49b1-98d9-bf4d17a5df8e",
   "metadata": {},
   "source": []
  }
 ],
 "metadata": {
  "kernelspec": {
   "display_name": "Python 3 (ipykernel)",
   "language": "python",
   "name": "python3"
  },
  "language_info": {
   "codemirror_mode": {
    "name": "ipython",
    "version": 3
   },
   "file_extension": ".py",
   "mimetype": "text/x-python",
   "name": "python",
   "nbconvert_exporter": "python",
   "pygments_lexer": "ipython3",
   "version": "3.12.7"
  }
 },
 "nbformat": 4,
 "nbformat_minor": 5
}
